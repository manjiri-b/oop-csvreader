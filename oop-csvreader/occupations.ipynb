{
 "cells": [
  {
   "cell_type": "markdown",
   "metadata": {},
   "source": [
    "# Occupations Analysis"
   ]
  },
  {
   "cell_type": "markdown",
   "metadata": {},
   "source": [
    "# Table of Contents\n",
    "\n",
    "* [lambda x:x[1])](#first-lambda)\n",
    "* [lambda x: x.upper()](#second-lambda)"
   ]
  },
  {
   "cell_type": "markdown",
   "metadata": {},
   "source": [
    "## first lambda"
   ]
  },
  {
   "cell_type": "code",
   "execution_count": 13,
   "metadata": {},
   "outputs": [
    {
     "name": "stdout",
     "output_type": "stream",
     "text": [
      "Maximum: ('Computer and Information Systems Managers', 161730)\n",
      "Minimum: ('Data Entry Keyers', 35850)\n"
     ]
    }
   ],
   "source": [
    "import csv\n",
    "\n",
    "with open(\"occupations-truncated.csv\") as csv_file:\n",
    "    csv_reader = csv.reader(csv_file, delimiter = ',')\n",
    "    \n",
    "    #Getting list of tuples which has level as detail and the Occupation title contains either data or computer\n",
    "    list_detail_ComputerOrData = [(x[1],int(x[4].replace(',', '').replace('$',''))) for x in csv_reader.__iter__() if (x[2] == 'detail' and ('computer' in x[1].lower() or 'data' in x[1].lower()))]\n",
    "    \n",
    "    #Getting occupation title and annual mean wage of max annual mean wage\n",
    "    print(\"Maximum:\",max(list_detail_ComputerOrData,key=lambda x:x[1]))\n",
    "    \n",
    "    #Getting occupation title and annual mean wage of min annual mean wage\n",
    "    print(\"Minimum:\",min(list_detail_ComputerOrData,key=lambda x:x[1]))"
   ]
  },
  {
   "cell_type": "code",
   "execution_count": 1,
   "metadata": {},
   "outputs": [
    {
     "name": "stdout",
     "output_type": "stream",
     "text": [
      "(1034, 5)\n"
     ]
    }
   ],
   "source": [
    "import nelta as nt\n",
    "\n",
    "#reading the csv file\n",
    "data_table = nt.read_csv('occupations-truncated.csv')\n",
    "\n",
    "#display the number of rows and columns for your Table\n",
    "print(data_table.shape())"
   ]
  },
  {
   "cell_type": "code",
   "execution_count": 2,
   "metadata": {},
   "outputs": [
    {
     "name": "stdout",
     "output_type": "stream",
     "text": [
      "['Occupation code', 'Occupation title', 'Level', 'Employment', 'Annual mean wage']\n"
     ]
    }
   ],
   "source": [
    "#Show columns of the table\n",
    "print(data_table.columns)"
   ]
  },
  {
   "cell_type": "code",
   "execution_count": 3,
   "metadata": {},
   "outputs": [
    {
     "name": "stdout",
     "output_type": "stream",
     "text": [
      "           Occupation code       Occupation title                  Level             Employment       Annual mean wage\n",
      "  0                00-0000        All Occupations                  total            139099570.0                $56,310\n",
      "  1                11-0000 Management Occupations                  major              7947300.0               $126,480\n",
      "  2                11-1000         Top Executives                  minor              2601070.0               $129,920\n",
      "  3                11-1011       Chief Executives                 detail               202360.0               $197,840\n"
     ]
    }
   ],
   "source": [
    "#Displaying first 4 rows of dataset\n",
    "print(data_table.head(4))"
   ]
  },
  {
   "cell_type": "code",
   "execution_count": 4,
   "metadata": {},
   "outputs": [
    {
     "data": {
      "text/plain": [
       "[1030, 1031, 1032, 1033]"
      ]
     },
     "execution_count": 4,
     "metadata": {},
     "output_type": "execute_result"
    }
   ],
   "source": [
    "last_four = data_table.tail(4)\n",
    "last_four.index"
   ]
  },
  {
   "cell_type": "code",
   "execution_count": 5,
   "metadata": {},
   "outputs": [
    {
     "name": "stdout",
     "output_type": "stream",
     "text": [
      "1030 12050.0\n",
      "1031 120850.0\n",
      "1032 12610.0\n",
      "1033 26300.0\n"
     ]
    }
   ],
   "source": [
    "print(last_four['Employment'])"
   ]
  },
  {
   "cell_type": "code",
   "execution_count": 6,
   "metadata": {},
   "outputs": [
    {
     "name": "stdout",
     "output_type": "stream",
     "text": [
      "12050.0\n",
      "120850.0\n",
      "12610.0\n",
      "26300.0\n"
     ]
    }
   ],
   "source": [
    "for value in last_four['Employment'].values:\n",
    "    print(value)"
   ]
  },
  {
   "cell_type": "code",
   "execution_count": 7,
   "metadata": {},
   "outputs": [
    {
     "name": "stdout",
     "output_type": "stream",
     "text": [
      "                                Occupation title                                Employment\n",
      "  1030                          Wellhead Pumpers                                   12050.0\n",
      "  1031 Refuse and Recyclable Material Collectors                                  120850.0\n",
      "  1032         Tank Car, Truck, and Ship Loaders                                   12610.0\n",
      "  1033        Material Moving Workers, All Other                                   26300.0\n"
     ]
    }
   ],
   "source": [
    "print(last_four[['Occupation title','Employment']]) #Works even without print()"
   ]
  },
  {
   "cell_type": "code",
   "execution_count": 8,
   "metadata": {},
   "outputs": [
    {
     "name": "stdout",
     "output_type": "stream",
     "text": [
      "772\n"
     ]
    }
   ],
   "source": [
    "details = data_table[[x == 'detail' for x in data_table['Level'].values]]\n",
    "print(len(details.index))"
   ]
  },
  {
   "cell_type": "code",
   "execution_count": 9,
   "metadata": {},
   "outputs": [
    {
     "name": "stdout",
     "output_type": "stream",
     "text": [
      "<class 'nelta.LabeledList'>\n"
     ]
    }
   ],
   "source": [
    "my_filter = details['Employment'] < 500\n",
    "print(type(my_filter))"
   ]
  },
  {
   "cell_type": "code",
   "execution_count": 10,
   "metadata": {},
   "outputs": [
    {
     "data": {
      "text/plain": [
       "False"
      ]
     },
     "execution_count": 10,
     "metadata": {},
     "output_type": "execute_result"
    }
   ],
   "source": [
    "my_filter[3]"
   ]
  },
  {
   "cell_type": "code",
   "execution_count": 11,
   "metadata": {},
   "outputs": [
    {
     "data": {
      "text/plain": [
       "               Occupation code         Occupation title                    Level               Employment         Annual mean wage\n",
       "  508                  35-2013 Cooks, Private Household                   detail                    320.0                  $46,810\n",
       "  916                  51-7032      Patternmakers, Wood                   detail                    190.0                  $60,750"
      ]
     },
     "execution_count": 11,
     "metadata": {},
     "output_type": "execute_result"
    }
   ],
   "source": [
    "details[my_filter]"
   ]
  },
  {
   "cell_type": "code",
   "execution_count": 12,
   "metadata": {},
   "outputs": [],
   "source": [
    "rare_occ = details[my_filter]"
   ]
  },
  {
   "cell_type": "markdown",
   "metadata": {},
   "source": [
    "## second lambda"
   ]
  },
  {
   "cell_type": "code",
   "execution_count": 13,
   "metadata": {},
   "outputs": [
    {
     "data": {
      "text/plain": [
       "508 COOKS, PRIVATE HOUSEHOLD\n",
       "916 PATTERNMAKERS, WOOD"
      ]
     },
     "execution_count": 13,
     "metadata": {},
     "output_type": "execute_result"
    }
   ],
   "source": [
    "rare_occ['Occupation title'].map(lambda x: x.upper()) #lambda function"
   ]
  },
  {
   "cell_type": "code",
   "execution_count": 14,
   "metadata": {},
   "outputs": [],
   "source": [
    "second_filter = [float(x.replace(\"$\",\"\").replace(\",\",\"\")) > 200000 for x in data_table['Annual mean wage'].values]"
   ]
  },
  {
   "cell_type": "code",
   "execution_count": 15,
   "metadata": {},
   "outputs": [
    {
     "name": "stdout",
     "output_type": "stream",
     "text": [
      "                                    Occupation code                              Occupation title                                         Level                                    Employment                              Annual mean wage\n",
      "  383                                       29-1022               Oral and Maxillofacial Surgeons                                        detail                                        4120.0                                      $234,990\n",
      "  384                                       29-1023                                 Orthodontists                                        detail                                        5040.0                                      $237,990\n",
      "  385                                       29-1024                               Prosthodontists                                        detail                                         530.0                                      $214,870\n",
      "  407                                       29-1211                             Anesthesiologists                                        detail                                       28590.0                                      $271,440\n",
      "  408                                       29-1215                    Family Medicine Physicians                                        detail                                       98590.0                                      $214,370\n",
      "  409                                       29-1216          General Internal Medicine Physicians                                        detail                                       50600.0                                      $210,960\n",
      "  410                                       29-1218               Obstetricians and Gynecologists                                        detail                                       18900.0                                      $239,120\n",
      "  412                                       29-1223                                 Psychiatrists                                        detail                                       25540.0                                      $217,100\n",
      "  413                                       29-1228 Physicians, All Other; and Ophthalmologist...                                        detail                                      375390.0                                      $218,850\n",
      "  414                                       29-1248             Surgeons, Except Ophthalmologists                                        detail                                       37900.0                                      $251,650\n"
     ]
    }
   ],
   "source": [
    "print(data_table[second_filter])"
   ]
  }
 ],
 "metadata": {
  "kernelspec": {
   "display_name": "Python 3",
   "language": "python",
   "name": "python3"
  },
  "language_info": {
   "codemirror_mode": {
    "name": "ipython",
    "version": 3
   },
   "file_extension": ".py",
   "mimetype": "text/x-python",
   "name": "python",
   "nbconvert_exporter": "python",
   "pygments_lexer": "ipython3",
   "version": "3.8.5"
  }
 },
 "nbformat": 4,
 "nbformat_minor": 5
}
